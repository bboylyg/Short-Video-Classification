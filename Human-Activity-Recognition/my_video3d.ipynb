{
 "cells": [
  {
   "cell_type": "code",
   "execution_count": 36,
   "metadata": {
    "collapsed": false
   },
   "outputs": [
    {
     "name": "stdout",
     "output_type": "stream",
     "text": [
      "nframe: 250.0\n",
      "_frames: [0, 1, 2, 3, 4, 5, 6, 7, 8, 9]\n",
      "np.array(framearray): (10, 32, 32)\n",
      "X.shape: (1, 32, 32, 10, 1)\n"
     ]
    }
   ],
   "source": [
    "# my video to tensor\n",
    "# return ：(img_rows, img_cols, frames)\n",
    "import numpy as np\n",
    "import cv2\n",
    "\n",
    "\n",
    "\n",
    "def video3d(height, width, depth, filename, color, skip):\n",
    "\n",
    "\n",
    "    cap = cv2.VideoCapture(filename)\n",
    "    nframe = cap.get(cv2.CAP_PROP_FRAME_COUNT)\n",
    "    \n",
    "    print('nframe:', nframe)\n",
    "    # skip控制是否跳帧截取\n",
    "    if skip:\n",
    "        frames = [x * nframe / depth for x in range(depth)]\n",
    "        \n",
    "        print('skip_frames:', frames)\n",
    "    else:\n",
    "        frames = [x for x in range(depth)]\n",
    "        print('_frames:', frames)\n",
    "    framearray = []\n",
    "\n",
    "    for i in range(depth):\n",
    "    # 对截取的10帧进行处理，转换为适合模型输入的tensor        \n",
    "        cap.set(cv2.CAP_PROP_POS_FRAMES, frames[i])\n",
    "        ret, frame = cap.read()\n",
    "        frame = cv2.resize(frame, (height, width))\n",
    "        if color:\n",
    "            # 像素值归一化\n",
    "            frame = np.array(frame, dtype=\"float\") / 255.0\n",
    "            framearray.append(frame)\n",
    "        else:\n",
    "            frame = cv2.cvtColor(frame, cv2.COLOR_BGR2GRAY)\n",
    "            frame = np.array(frame, dtype=\"float\") / 255.0\n",
    "            framearray.append(frame)\n",
    "\n",
    "    cap.release()\n",
    "    \n",
    "    print('np.array(framearray):', np.array(framearray).shape)\n",
    "\n",
    "    return np.array(framearray)\n",
    "\n",
    "vid3d=video3d(height=32, width=32, depth=10, filename='guitar.avi', color=False, skip=False)\n",
    "\n",
    "depth = 10\n",
    "img_rows, img_cols, frames=32, 32, depth\n",
    "# channel=3 if args.color else 1\n",
    "channel = 1\n",
    "\n",
    "# vid3d=videoto3d(img_rows, img_cols, frames)\n",
    "X = vid3d.reshape((1, img_rows, img_cols, frames, channel))\n",
    "print('X.shape:', X.shape)"
   ]
  },
  {
   "cell_type": "code",
   "execution_count": null,
   "metadata": {
    "collapsed": false
   },
   "outputs": [],
   "source": []
  },
  {
   "cell_type": "code",
   "execution_count": null,
   "metadata": {
    "collapsed": true
   },
   "outputs": [],
   "source": []
  },
  {
   "cell_type": "code",
   "execution_count": null,
   "metadata": {
    "collapsed": true
   },
   "outputs": [],
   "source": []
  },
  {
   "cell_type": "code",
   "execution_count": null,
   "metadata": {
    "collapsed": true
   },
   "outputs": [],
   "source": []
  },
  {
   "cell_type": "code",
   "execution_count": null,
   "metadata": {
    "collapsed": true
   },
   "outputs": [],
   "source": []
  },
  {
   "cell_type": "code",
   "execution_count": null,
   "metadata": {
    "collapsed": true
   },
   "outputs": [],
   "source": []
  },
  {
   "cell_type": "code",
   "execution_count": null,
   "metadata": {
    "collapsed": true
   },
   "outputs": [],
   "source": []
  },
  {
   "cell_type": "code",
   "execution_count": null,
   "metadata": {
    "collapsed": true
   },
   "outputs": [],
   "source": []
  },
  {
   "cell_type": "code",
   "execution_count": null,
   "metadata": {
    "collapsed": true
   },
   "outputs": [],
   "source": []
  },
  {
   "cell_type": "code",
   "execution_count": null,
   "metadata": {
    "collapsed": true
   },
   "outputs": [],
   "source": []
  },
  {
   "cell_type": "code",
   "execution_count": null,
   "metadata": {
    "collapsed": true
   },
   "outputs": [],
   "source": []
  }
 ],
 "metadata": {
  "anaconda-cloud": {},
  "kernelspec": {
   "display_name": "Python [conda env:tensorflow]",
   "language": "python",
   "name": "conda-env-tensorflow-py"
  },
  "language_info": {
   "codemirror_mode": {
    "name": "ipython",
    "version": 3
   },
   "file_extension": ".py",
   "mimetype": "text/x-python",
   "name": "python",
   "nbconvert_exporter": "python",
   "pygments_lexer": "ipython3",
   "version": "3.5.5"
  }
 },
 "nbformat": 4,
 "nbformat_minor": 2
}
